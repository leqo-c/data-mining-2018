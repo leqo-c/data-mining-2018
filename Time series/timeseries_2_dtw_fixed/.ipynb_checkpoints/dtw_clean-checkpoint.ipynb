{
 "cells": [
  {
   "cell_type": "markdown",
   "metadata": {},
   "source": [
    "# Dynamic Time Warping\n",
    "DTW code and examples taken and revised from:\n",
    "      https://pypi.python.org/pypi/dtw\n"
   ]
  },
  {
   "cell_type": "code",
   "execution_count": 1,
   "metadata": {},
   "outputs": [
    {
     "name": "stdout",
     "output_type": "stream",
     "text": [
      "Populating the interactive namespace from numpy and matplotlib\n"
     ]
    }
   ],
   "source": [
    "%pylab inline\n",
    "from pylab import rcParams\n",
    "rcParams['figure.figsize'] = 16,4"
   ]
  },
  {
   "cell_type": "markdown",
   "metadata": {},
   "source": [
    "## DTW basic implementation"
   ]
  },
  {
   "cell_type": "code",
   "execution_count": 2,
   "metadata": {},
   "outputs": [],
   "source": [
    "def dtw(x, y, dist):\n",
    "    \"\"\"\n",
    "    Computes Dynamic Time Warping (DTW) of two sequences.\n",
    "\n",
    "    :param array x: N1*M array\n",
    "    :param array y: N2*M array\n",
    "    :param func dist: distance used as cost measure\n",
    "\n",
    "    Returns the minimum distance, the cost matrix, the accumulated cost matrix, and the wrap path.\n",
    "    \"\"\"\n",
    "    assert len(x)\n",
    "    assert len(y)\n",
    "    r, c = len(x), len(y)\n",
    "    \n",
    "    # D0 = D1 = matrix of point-to-point costs\n",
    "    D0 = zeros((r + 1, c + 1))\n",
    "    D0[0, 1:] = inf\n",
    "    D0[1:, 0] = inf\n",
    "    D1 = D0[1:, 1:] # view (hide first column and first row)\n",
    "    \n",
    "    # Fill the point-to-point costs matrix\n",
    "    for i in range(r):\n",
    "        for j in range(c):\n",
    "            D1[i, j] = dist(x[i], y[j])\n",
    "            \n",
    "    # C = matrix of optimal paths costs\n",
    "    C = D1.copy()\n",
    "    for i in range(r):\n",
    "        for j in range(c):\n",
    "            D1[i, j] += min(D0[i, j], D0[i, j+1], D0[i+1, j])\n",
    "    \n",
    "    # Infer the path from matrix C\n",
    "    if len(x)==1:\n",
    "        path = zeros(len(y)), range(len(y))  # special case 1\n",
    "    elif len(y) == 1:\n",
    "        path = range(len(x)), zeros(len(x))  # special case 2\n",
    "    else:\n",
    "        path = _traceback(D0)  # general case\n",
    "        \n",
    "    return D1[-1, -1], C, D1, path\n",
    "\n",
    "# Function for inferring the optima path (general case)\n",
    "# Starts from last cell and goes backward...\n",
    "def _traceback(D):\n",
    "    i, j = array(D.shape) - 2\n",
    "    p, q = [i], [j]\n",
    "    while ((i > 0) or (j > 0)):\n",
    "        tb = argmin((D[i, j], D[i, j+1], D[i+1, j]))\n",
    "        if (tb == 0):\n",
    "            i -= 1\n",
    "            j -= 1\n",
    "        elif (tb == 1):\n",
    "            i -= 1\n",
    "        else: # (tb == 2):\n",
    "            j -= 1\n",
    "        p.insert(0, i)\n",
    "        q.insert(0, j)\n",
    "    return array(p), array(q)"
   ]
  },
  {
   "cell_type": "markdown",
   "metadata": {},
   "source": [
    "#### Define two toy time series"
   ]
  },
  {
   "cell_type": "code",
   "execution_count": 3,
   "metadata": {},
   "outputs": [
    {
     "data": {
      "text/plain": [
       "[<matplotlib.lines.Line2D at 0x7f3667f5b7d0>]"
      ]
     },
     "execution_count": 3,
     "metadata": {},
     "output_type": "execute_result"
    },
    {
     "data": {
      "image/png": "[encoded data removed]",
      "text/plain": [
       "<Figure size 1152x288 with 1 Axes>"
      ]
     },
     "metadata": {},
     "output_type": "display_data"
    }
   ],
   "source": [
    "x = array([0, 0, 1, 1, 2, 4, 2, 1, 2, 0])\n",
    "x = array([1, 2, 4, 2, 1, 2, 0])\n",
    "y = array([1, 1, 1, 2, 2, 2, 2, 3, 2, 0])\n",
    "plot(x, 'b-')\n",
    "plot(x, 'bo')\n",
    "plot(y, 'r-')\n",
    "plot(y, 'ro')"
   ]
  },
  {
   "cell_type": "markdown",
   "metadata": {},
   "source": [
    "#### Define how to compare two points\n",
    "Our choice: simple |x-y|.\n",
    "\n",
    "A Euclidean-like possibility is (x-y)^2"
   ]
  },
  {
   "cell_type": "code",
   "execution_count": 4,
   "metadata": {},
   "outputs": [],
   "source": [
    "def distance(x,y):\n",
    "    return abs(x-y)"
   ]
  },
  {
   "cell_type": "markdown",
   "metadata": {},
   "source": [
    "#### Try it!"
   ]
  },
  {
   "cell_type": "code",
   "execution_count": 5,
   "metadata": {},
   "outputs": [],
   "source": [
    "(dist, cost, acc, path) = dtw(x, y, distance)"
   ]
  },
  {
   "cell_type": "code",
   "execution_count": 6,
   "metadata": {},
   "outputs": [
    {
     "data": {
      "text/plain": [
       "2.0"
      ]
     },
     "execution_count": 6,
     "metadata": {},
     "output_type": "execute_result"
    }
   ],
   "source": [
    "dist"
   ]
  },
  {
   "cell_type": "code",
   "execution_count": 7,
   "metadata": {},
   "outputs": [
    {
     "data": {
      "text/plain": [
       "array([[0., 0., 0., 1., 1., 1., 1., 2., 1., 1.],\n",
       "       [1., 1., 1., 0., 0., 0., 0., 1., 0., 2.],\n",
       "       [3., 3., 3., 2., 2., 2., 2., 1., 2., 4.],\n",
       "       [1., 1., 1., 0., 0., 0., 0., 1., 0., 2.],\n",
       "       [0., 0., 0., 1., 1., 1., 1., 2., 1., 1.],\n",
       "       [1., 1., 1., 0., 0., 0., 0., 1., 0., 2.],\n",
       "       [1., 1., 1., 2., 2., 2., 2., 3., 2., 0.]])"
      ]
     },
     "execution_count": 7,
     "metadata": {},
     "output_type": "execute_result"
    }
   ],
   "source": [
    "cost"
   ]
  },
  {
   "cell_type": "code",
   "execution_count": 8,
   "metadata": {},
   "outputs": [
    {
     "data": {
      "text/plain": [
       "array([[0., 0., 0., 1., 2., 3., 4., 6., 7., 8.],\n",
       "       [1., 1., 1., 0., 0., 0., 0., 1., 1., 3.],\n",
       "       [4., 4., 4., 2., 2., 2., 2., 1., 3., 5.],\n",
       "       [5., 5., 5., 2., 2., 2., 2., 2., 1., 3.],\n",
       "       [5., 5., 5., 3., 3., 3., 3., 4., 2., 2.],\n",
       "       [6., 6., 6., 3., 3., 3., 3., 4., 2., 4.],\n",
       "       [7., 7., 7., 5., 5., 5., 5., 6., 4., 2.]])"
      ]
     },
     "execution_count": 8,
     "metadata": {},
     "output_type": "execute_result"
    }
   ],
   "source": [
    "acc"
   ]
  },
  {
   "cell_type": "markdown",
   "metadata": {},
   "source": [
    "#### A better table visualization"
   ]
  },
  {
   "cell_type": "code",
   "execution_count": 9,
   "metadata": {},
   "outputs": [],
   "source": [
    "def nice_table(cost_matrix, title, first_timeseries, second_timeseries):\n",
    "    import seaborn as sns\n",
    "    import pandas as pd\n",
    "    df = pd.DataFrame(cost_matrix.transpose().astype(int))[::-1]\n",
    "    df.columns = first_timeseries\n",
    "    df.index = second_timeseries[::-1]\n",
    "    mask = np.zeros_like(df)\n",
    "    for i in range(df.shape[0]):\n",
    "        for j in range(df.shape[1]):\n",
    "            if(np.array(df)[i][j] == -1):\n",
    "                mask[i][j] = True\n",
    "    sns.set_context('notebook', font_scale=2.5)\n",
    "    ax = sns.heatmap(df, annot=True, fmt=\"d\", cbar=False, mask=mask)\n",
    "    ax.set_title(title)"
   ]
  },
  {
   "cell_type": "code",
   "execution_count": 10,
   "metadata": {},
   "outputs": [
    {
     "ename": "ImportError",
     "evalue": "No module named seaborn",
     "output_type": "error",
     "traceback": [
      "\u001b[0;31m---------------------------------------------------------------------------\u001b[0m",
      "\u001b[0;31mImportError\u001b[0m                               Traceback (most recent call last)",
      "\u001b[0;32m<ipython-input-10-3231c9ec789f>\u001b[0m in \u001b[0;36m<module>\u001b[0;34m()\u001b[0m\n\u001b[0;32m----> 1\u001b[0;31m \u001b[0mnice_table\u001b[0m\u001b[0;34m(\u001b[0m\u001b[0mcost\u001b[0m\u001b[0;34m,\u001b[0m \u001b[0;34m'Point-to-point costs'\u001b[0m\u001b[0;34m,\u001b[0m \u001b[0mx\u001b[0m\u001b[0;34m,\u001b[0m \u001b[0my\u001b[0m\u001b[0;34m)\u001b[0m\u001b[0;34m\u001b[0m\u001b[0m\n\u001b[0m",
      "\u001b[0;32m<ipython-input-9-8b97c3697979>\u001b[0m in \u001b[0;36mnice_table\u001b[0;34m(cost_matrix, title, first_timeseries, second_timeseries)\u001b[0m\n\u001b[1;32m      1\u001b[0m \u001b[0;32mdef\u001b[0m \u001b[0mnice_table\u001b[0m\u001b[0;34m(\u001b[0m\u001b[0mcost_matrix\u001b[0m\u001b[0;34m,\u001b[0m \u001b[0mtitle\u001b[0m\u001b[0;34m,\u001b[0m \u001b[0mfirst_timeseries\u001b[0m\u001b[0;34m,\u001b[0m \u001b[0msecond_timeseries\u001b[0m\u001b[0;34m)\u001b[0m\u001b[0;34m:\u001b[0m\u001b[0;34m\u001b[0m\u001b[0m\n\u001b[0;32m----> 2\u001b[0;31m     \u001b[0;32mimport\u001b[0m \u001b[0mseaborn\u001b[0m \u001b[0;32mas\u001b[0m \u001b[0msns\u001b[0m\u001b[0;34m\u001b[0m\u001b[0m\n\u001b[0m\u001b[1;32m      3\u001b[0m     \u001b[0;32mimport\u001b[0m \u001b[0mpandas\u001b[0m \u001b[0;32mas\u001b[0m \u001b[0mpd\u001b[0m\u001b[0;34m\u001b[0m\u001b[0m\n\u001b[1;32m      4\u001b[0m     \u001b[0mdf\u001b[0m \u001b[0;34m=\u001b[0m \u001b[0mpd\u001b[0m\u001b[0;34m.\u001b[0m\u001b[0mDataFrame\u001b[0m\u001b[0;34m(\u001b[0m\u001b[0mcost_matrix\u001b[0m\u001b[0;34m.\u001b[0m\u001b[0mtranspose\u001b[0m\u001b[0;34m(\u001b[0m\u001b[0;34m)\u001b[0m\u001b[0;34m.\u001b[0m\u001b[0mastype\u001b[0m\u001b[0;34m(\u001b[0m\u001b[0mint\u001b[0m\u001b[0;34m)\u001b[0m\u001b[0;34m)\u001b[0m\u001b[0;34m[\u001b[0m\u001b[0;34m:\u001b[0m\u001b[0;34m:\u001b[0m\u001b[0;34m-\u001b[0m\u001b[0;36m1\u001b[0m\u001b[0;34m]\u001b[0m\u001b[0;34m\u001b[0m\u001b[0m\n\u001b[1;32m      5\u001b[0m     \u001b[0mdf\u001b[0m\u001b[0;34m.\u001b[0m\u001b[0mcolumns\u001b[0m \u001b[0;34m=\u001b[0m \u001b[0mfirst_timeseries\u001b[0m\u001b[0;34m\u001b[0m\u001b[0m\n",
      "\u001b[0;31mImportError\u001b[0m: No module named seaborn"
     ]
    }
   ],
   "source": [
    "nice_table(cost, 'Point-to-point costs', x, y)"
   ]
  },
  {
   "cell_type": "code",
   "execution_count": null,
   "metadata": {},
   "outputs": [],
   "source": [
    "nice_table(acc, 'Cumulative costs', x, y)"
   ]
  },
  {
   "cell_type": "code",
   "execution_count": null,
   "metadata": {},
   "outputs": [],
   "source": [
    "path"
   ]
  },
  {
   "cell_type": "code",
   "execution_count": null,
   "metadata": {},
   "outputs": [],
   "source": [
    "for coordinates in zip(path[0],path[1]):\n",
    "    print coordinates,"
   ]
  },
  {
   "cell_type": "markdown",
   "metadata": {},
   "source": [
    "## Plotting the optimal path"
   ]
  },
  {
   "cell_type": "code",
   "execution_count": null,
   "metadata": {},
   "outputs": [],
   "source": [
    "def matrix_and_best_path(mymatrix,path):\n",
    "    import seaborn as sns\n",
    "    sns.reset_orig()\n",
    "    sns.set_context('notebook', font_scale=2.5)\n",
    "    imshow(mymatrix.T, origin='lower', cmap=cm.gray, interpolation='nearest')\n",
    "    title('Optimal path')\n",
    "    plot(path[0], path[0], 'c-')\n",
    "    plot(path[0], path[1], 'y')\n",
    "    plot(path[0], path[1], 'ro')\n",
    "    xlim(-0.5,mymatrix.shape[0]-0.5)\n",
    "    ylim(-0.5,mymatrix.shape[1]-0.5)"
   ]
  },
  {
   "cell_type": "markdown",
   "metadata": {},
   "source": [
    "#### Path w.r.t cumulative costs"
   ]
  },
  {
   "cell_type": "code",
   "execution_count": null,
   "metadata": {},
   "outputs": [],
   "source": [
    "matrix_and_best_path(acc,path)"
   ]
  },
  {
   "cell_type": "markdown",
   "metadata": {},
   "source": [
    "#### Path w.r.t point-to-point costs"
   ]
  },
  {
   "cell_type": "code",
   "execution_count": null,
   "metadata": {},
   "outputs": [],
   "source": [
    "matrix_and_best_path(cost,path)"
   ]
  },
  {
   "cell_type": "markdown",
   "metadata": {},
   "source": [
    "### Plot DTW alignment plot"
   ]
  },
  {
   "cell_type": "code",
   "execution_count": null,
   "metadata": {},
   "outputs": [],
   "source": [
    "path, x, y"
   ]
  },
  {
   "cell_type": "code",
   "execution_count": null,
   "metadata": {},
   "outputs": [],
   "source": [
    "yshift = 10  # shifts y a bit to make the plot more readable\n",
    "for (i,j) in zip(path[0],path[1]):\n",
    "    col = 'r-' if i == j else 'y-'\n",
    "    plot([ i, j ] , [ x[i], y[j]+yshift ], col)\n",
    "xlim(-0.5,max(len(x),len(y))+0.5)\n",
    "plot(y+yshift)\n",
    "plot(x)"
   ]
  },
  {
   "cell_type": "markdown",
   "metadata": {},
   "source": [
    "## Example on a sound waves dataset"
   ]
  },
  {
   "cell_type": "code",
   "execution_count": null,
   "metadata": {},
   "outputs": [],
   "source": [
    "import librosa\n",
    "y, sr = librosa.load('sounds_0.wav')\n",
    "y2, sr2 = librosa.load('sounds_8.wav')"
   ]
  },
  {
   "cell_type": "code",
   "execution_count": null,
   "metadata": {},
   "outputs": [],
   "source": [
    "import pandas as pd\n",
    "rcParams['figure.figsize'] = 16,4\n",
    "\n",
    "winsmooth = 100\n",
    "ysmooth = pd.Series(abs(y)).rolling(window=winsmooth).mean()\n",
    "ysmooth2 = pd.Series(abs(y2)).rolling(window=winsmooth).mean()\n",
    "\n",
    "samples = [winsmooth*i for i in range(len(ysmooth)/winsmooth)]\n",
    "samples2 = [winsmooth*i for i in range(len(ysmooth2)/winsmooth)]\n",
    "\n",
    "plot(y2)\n",
    "plot(y)\n"
   ]
  },
  {
   "cell_type": "markdown",
   "metadata": {},
   "source": [
    "#### Take a sample of size 100 in the middle"
   ]
  },
  {
   "cell_type": "code",
   "execution_count": null,
   "metadata": {},
   "outputs": [],
   "source": [
    "rcParams['figure.figsize'] = 16,4\n",
    "offset = 5200\n",
    "win = 100\n",
    "ys = y[offset:(offset+win)]\n",
    "ys2 = y2[offset:(offset+win)]\n",
    "# Normalize\n",
    "#ys = (ys - ys.mean()) / ys.std()\n",
    "#ys2 = (ys2 - ys2.mean()) / ys2.std()\n",
    "plot(ys)\n",
    "plot(ys2)\n",
    "print ys.mean(), ys2.mean(), ys.std(), ys2.std()"
   ]
  },
  {
   "cell_type": "code",
   "execution_count": null,
   "metadata": {},
   "outputs": [],
   "source": [
    "d, aa, cc, ll = dtw(ys,ys2,distance)\n",
    "matrix_and_best_path(aa,ll)"
   ]
  },
  {
   "cell_type": "code",
   "execution_count": null,
   "metadata": {},
   "outputs": [],
   "source": [
    "rcParams['figure.figsize'] = 16,4\n",
    "\n",
    "yshift = 10  # shifts y a bit to make the plot more readable\n",
    "for (i,j) in zip(ll[0],ll[1]):\n",
    "    col = 'r-' if i == j else 'y-'\n",
    "    plot([ i, j ] , [ ys[i], ys2[j]+yshift ], col)\n",
    "xlim(-0.5,max(len(ys),len(ys2))+0.5)\n",
    "plot(ys2+yshift)\n",
    "plot(ys)"
   ]
  },
  {
   "cell_type": "code",
   "execution_count": null,
   "metadata": {
    "collapsed": true
   },
   "outputs": [],
   "source": []
  }
 ],
 "metadata": {
  "kernelspec": {
   "display_name": "Python 2",
   "language": "python",
   "name": "python2"
  },
  "language_info": {
   "codemirror_mode": {
    "name": "ipython",
    "version": 2
   },
   "file_extension": ".py",
   "mimetype": "text/x-python",
   "name": "python",
   "nbconvert_exporter": "python",
   "pygments_lexer": "ipython2",
   "version": "2.7.14"
  }
 },
 "nbformat": 4,
 "nbformat_minor": 2
}
