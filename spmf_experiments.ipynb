{
 "cells": [
  {
   "cell_type": "code",
   "execution_count": 1,
   "metadata": {},
   "outputs": [],
   "source": [
    "from subprocess import call, check_output"
   ]
  },
  {
   "cell_type": "code",
   "execution_count": 2,
   "metadata": {},
   "outputs": [
    {
     "name": "stdout",
     "output_type": "stream",
     "text": [
      "progetto_DM_seq_mensili.txt 0.1 11\n",
      "progetto_DM_seq_mensili.txt 0.2 0\n",
      "progetto_DM_seq_mensili.txt 0.3 0\n",
      "progetto_DM_seq_mensili.txt 0.4 0\n",
      "progetto_DM_seq_mensili(no_noise).txt 0.1 260\n",
      "progetto_DM_seq_mensili(no_noise).txt 0.2 78\n",
      "progetto_DM_seq_mensili(no_noise).txt 0.3 23\n",
      "progetto_DM_seq_mensili(no_noise).txt 0.4 11\n"
     ]
    }
   ],
   "source": [
    "# INPUT - OUTPUT - sup - mingap - maxgap - minspan - maxspan\n",
    "# java -jar spmf.jar run HirateYamana contextSequencesTimeExtended.txt output.txt 55% 0 2 0 2\n",
    "\n",
    "input_files = [\"progetto_DM_seq_mensili.txt\", \n",
    "               \"progetto_DM_seq_mensili(no_noise).txt\"]\n",
    "               #\"progetto_DM_seq_mensili_discretizzate.txt\", \n",
    "               #\"progetto_DM_seq_mensili_discretizzate(no_noise).txt\"]\n",
    "out_file = \"common_out.txt\"\n",
    "supports = [\"0.1\",\"0.2\",\"0.3\",\"0.4\"]\n",
    "\n",
    "for in_file in input_files:\n",
    "    for sup in supports:\n",
    "        command = [\"java\", \"-jar\", \"spmf.jar\", \"run\", \"HirateYamana\", \n",
    "           in_file, \n",
    "           out_file,\n",
    "           sup, \n",
    "           \"0\", \"1\", \"3\", \"999\"]\n",
    "        call(command)\n",
    "        \n",
    "        string = check_output([\"wc\", \"-l\", \"common_out.txt\"])\n",
    "        lines = int(string.split(\" \")[0])\n",
    "        print in_file + \" \" + sup + \" \" + str(lines)\n"
   ]
  },
  {
   "cell_type": "code",
   "execution_count": 9,
   "metadata": {},
   "outputs": [
    {
     "data": {
      "text/plain": [
       "0"
      ]
     },
     "execution_count": 9,
     "metadata": {},
     "output_type": "execute_result"
    }
   ],
   "source": [
    "command = [\"java\", \"-jar\", \"spmf.jar\", \"run\", \"HirateYamana\", \n",
    "           \"progetto_DM_seq_mensili.txt\",\n",
    "           \"output_seq_mensili.txt\",\n",
    "           \"0.1\",\n",
    "           \"0\", \"1\", \"3\", \"999\"]\n",
    "call(command)"
   ]
  },
  {
   "cell_type": "code",
   "execution_count": 11,
   "metadata": {},
   "outputs": [],
   "source": [
    "import anfriutils"
   ]
  },
  {
   "cell_type": "code",
   "execution_count": 29,
   "metadata": {},
   "outputs": [
    {
     "name": "stdout",
     "output_type": "stream",
     "text": [
      "([0, 0, 1, 1], 308)\n",
      "([6, 6, 7, 7], 304)\n",
      "([6, 7, 7, 7], 291)\n",
      "([0, 0, 0, 1], 287)\n",
      "([1, 1, 2, 2], 276)\n",
      "([4, 4, 5, 5], 275)\n",
      "([5, 5, 6, 6], 275)\n"
     ]
    }
   ],
   "source": [
    "command = [\"java\", \"-jar\", \"spmf.jar\", \"run\", \"HirateYamana\", \n",
    "           \"progetto_DM_seq_mensili(no_noise).txt\",\n",
    "           \"output_seq_mensili(no_noise).txt\",\n",
    "           \"0.4\",\n",
    "           \"0\", \"1\", \"3\", \"999\"]\n",
    "call(command)\n",
    "res = anfriutils.SPMFout_to_list(filename=\"output_seq_mensili(no_noise).txt\")\n",
    "for r in res:\n",
    "    print r"
   ]
  },
  {
   "cell_type": "code",
   "execution_count": null,
   "metadata": {},
   "outputs": [],
   "source": []
  }
 ],
 "metadata": {
  "kernelspec": {
   "display_name": "Python 2",
   "language": "python",
   "name": "python2"
  },
  "language_info": {
   "codemirror_mode": {
    "name": "ipython",
    "version": 2
   },
   "file_extension": ".py",
   "mimetype": "text/x-python",
   "name": "python",
   "nbconvert_exporter": "python",
   "pygments_lexer": "ipython2",
   "version": "2.7.15rc1"
  }
 },
 "nbformat": 4,
 "nbformat_minor": 2
}
